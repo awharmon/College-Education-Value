{
 "cells": [
  {
   "cell_type": "code",
   "execution_count": 1,
   "metadata": {},
   "outputs": [],
   "source": [
    "import pandas as pd\n",
    "import numpy as np\n",
    "import seaborn as sns\n",
    "import matplotlib.pyplot as plt\n",
    "\n",
    "%matplotlib inline"
   ]
  },
  {
   "cell_type": "code",
   "execution_count": 2,
   "metadata": {},
   "outputs": [],
   "source": [
    "from sklearn.model_selection import train_test_split\n",
    "from sklearn.linear_model import LinearRegression\n",
    "from sklearn.preprocessing import StandardScaler"
   ]
  },
  {
   "cell_type": "code",
   "execution_count": 3,
   "metadata": {},
   "outputs": [],
   "source": [
    "df = pd.read_json('./schoolInfo.json')"
   ]
  },
  {
   "cell_type": "code",
   "execution_count": 4,
   "metadata": {},
   "outputs": [
    {
     "data": {
      "text/html": [
       "<div>\n",
       "<style scoped>\n",
       "    .dataframe tbody tr th:only-of-type {\n",
       "        vertical-align: middle;\n",
       "    }\n",
       "\n",
       "    .dataframe tbody tr th {\n",
       "        vertical-align: top;\n",
       "    }\n",
       "\n",
       "    .dataframe thead th {\n",
       "        text-align: right;\n",
       "    }\n",
       "</style>\n",
       "<table border=\"1\" class=\"dataframe\">\n",
       "  <thead>\n",
       "    <tr style=\"text-align: right;\">\n",
       "      <th></th>\n",
       "      <th>acceptance-rate</th>\n",
       "      <th>act-avg</th>\n",
       "      <th>aliasNames</th>\n",
       "      <th>businessRepScore</th>\n",
       "      <th>city</th>\n",
       "      <th>cost-after-aid</th>\n",
       "      <th>displayName</th>\n",
       "      <th>engineeringRepScore</th>\n",
       "      <th>enrollment</th>\n",
       "      <th>hs-gpa-avg</th>\n",
       "      <th>...</th>\n",
       "      <th>rankingType</th>\n",
       "      <th>region</th>\n",
       "      <th>sat-avg</th>\n",
       "      <th>schoolType</th>\n",
       "      <th>sortName</th>\n",
       "      <th>state</th>\n",
       "      <th>tuition</th>\n",
       "      <th>urlName</th>\n",
       "      <th>xwalkId</th>\n",
       "      <th>zip</th>\n",
       "    </tr>\n",
       "  </thead>\n",
       "  <tbody>\n",
       "    <tr>\n",
       "      <th>0</th>\n",
       "      <td>7.0</td>\n",
       "      <td>32.0</td>\n",
       "      <td>None</td>\n",
       "      <td>NaN</td>\n",
       "      <td>Princeton</td>\n",
       "      <td>16793.0</td>\n",
       "      <td>Princeton University</td>\n",
       "      <td>4.1</td>\n",
       "      <td>5400.0</td>\n",
       "      <td>3.9</td>\n",
       "      <td>...</td>\n",
       "      <td>national-universities</td>\n",
       "      <td>NaN</td>\n",
       "      <td>1400.0</td>\n",
       "      <td>national-universities</td>\n",
       "      <td>princetonuniversity</td>\n",
       "      <td>NJ</td>\n",
       "      <td>47140</td>\n",
       "      <td>princeton-university</td>\n",
       "      <td>186131</td>\n",
       "      <td>8544</td>\n",
       "    </tr>\n",
       "    <tr>\n",
       "      <th>1</th>\n",
       "      <td>5.0</td>\n",
       "      <td>32.0</td>\n",
       "      <td>None</td>\n",
       "      <td>NaN</td>\n",
       "      <td>Cambridge</td>\n",
       "      <td>16338.0</td>\n",
       "      <td>Harvard University</td>\n",
       "      <td>3.6</td>\n",
       "      <td>6710.0</td>\n",
       "      <td>4.0</td>\n",
       "      <td>...</td>\n",
       "      <td>national-universities</td>\n",
       "      <td>NaN</td>\n",
       "      <td>1430.0</td>\n",
       "      <td>national-universities</td>\n",
       "      <td>harvarduniversity</td>\n",
       "      <td>MA</td>\n",
       "      <td>48949</td>\n",
       "      <td>harvard-university</td>\n",
       "      <td>166027</td>\n",
       "      <td>2138</td>\n",
       "    </tr>\n",
       "    <tr>\n",
       "      <th>2</th>\n",
       "      <td>8.0</td>\n",
       "      <td>32.0</td>\n",
       "      <td>UChicago</td>\n",
       "      <td>NaN</td>\n",
       "      <td>Chicago</td>\n",
       "      <td>27767.0</td>\n",
       "      <td>University of Chicago</td>\n",
       "      <td>NaN</td>\n",
       "      <td>5941.0</td>\n",
       "      <td>4.0</td>\n",
       "      <td>...</td>\n",
       "      <td>national-universities</td>\n",
       "      <td>NaN</td>\n",
       "      <td>1450.0</td>\n",
       "      <td>national-universities</td>\n",
       "      <td>universityofchicago</td>\n",
       "      <td>IL</td>\n",
       "      <td>54825</td>\n",
       "      <td>university-of-chicago</td>\n",
       "      <td>144050</td>\n",
       "      <td>60637</td>\n",
       "    </tr>\n",
       "    <tr>\n",
       "      <th>3</th>\n",
       "      <td>6.0</td>\n",
       "      <td>32.0</td>\n",
       "      <td>None</td>\n",
       "      <td>NaN</td>\n",
       "      <td>New Haven</td>\n",
       "      <td>18385.0</td>\n",
       "      <td>Yale University</td>\n",
       "      <td>3.4</td>\n",
       "      <td>5472.0</td>\n",
       "      <td>NaN</td>\n",
       "      <td>...</td>\n",
       "      <td>national-universities</td>\n",
       "      <td>NaN</td>\n",
       "      <td>1420.0</td>\n",
       "      <td>national-universities</td>\n",
       "      <td>yaleuniversity</td>\n",
       "      <td>CT</td>\n",
       "      <td>51400</td>\n",
       "      <td>yale-university</td>\n",
       "      <td>130794</td>\n",
       "      <td>6520</td>\n",
       "    </tr>\n",
       "    <tr>\n",
       "      <th>4</th>\n",
       "      <td>6.0</td>\n",
       "      <td>32.0</td>\n",
       "      <td>None</td>\n",
       "      <td>NaN</td>\n",
       "      <td>New York</td>\n",
       "      <td>21041.0</td>\n",
       "      <td>Columbia University</td>\n",
       "      <td>3.8</td>\n",
       "      <td>6113.0</td>\n",
       "      <td>NaN</td>\n",
       "      <td>...</td>\n",
       "      <td>national-universities</td>\n",
       "      <td>NaN</td>\n",
       "      <td>1430.0</td>\n",
       "      <td>national-universities</td>\n",
       "      <td>columbiauniversity</td>\n",
       "      <td>NY</td>\n",
       "      <td>57208</td>\n",
       "      <td>columbia-university</td>\n",
       "      <td>190150</td>\n",
       "      <td>10027</td>\n",
       "    </tr>\n",
       "  </tbody>\n",
       "</table>\n",
       "<p>5 rows × 39 columns</p>\n",
       "</div>"
      ],
      "text/plain": [
       "   acceptance-rate  act-avg aliasNames  businessRepScore       city  \\\n",
       "0              7.0     32.0       None               NaN  Princeton   \n",
       "1              5.0     32.0       None               NaN  Cambridge   \n",
       "2              8.0     32.0   UChicago               NaN    Chicago   \n",
       "3              6.0     32.0       None               NaN  New Haven   \n",
       "4              6.0     32.0       None               NaN   New York   \n",
       "\n",
       "   cost-after-aid            displayName  engineeringRepScore  enrollment  \\\n",
       "0         16793.0   Princeton University                  4.1      5400.0   \n",
       "1         16338.0     Harvard University                  3.6      6710.0   \n",
       "2         27767.0  University of Chicago                  NaN      5941.0   \n",
       "3         18385.0        Yale University                  3.4      5472.0   \n",
       "4         21041.0    Columbia University                  3.8      6113.0   \n",
       "\n",
       "   hs-gpa-avg  ...            rankingType  region  sat-avg  \\\n",
       "0         3.9  ...  national-universities     NaN   1400.0   \n",
       "1         4.0  ...  national-universities     NaN   1430.0   \n",
       "2         4.0  ...  national-universities     NaN   1450.0   \n",
       "3         NaN  ...  national-universities     NaN   1420.0   \n",
       "4         NaN  ...  national-universities     NaN   1430.0   \n",
       "\n",
       "              schoolType             sortName  state  tuition  \\\n",
       "0  national-universities  princetonuniversity     NJ    47140   \n",
       "1  national-universities    harvarduniversity     MA    48949   \n",
       "2  national-universities  universityofchicago     IL    54825   \n",
       "3  national-universities       yaleuniversity     CT    51400   \n",
       "4  national-universities   columbiauniversity     NY    57208   \n",
       "\n",
       "                 urlName xwalkId    zip  \n",
       "0   princeton-university  186131   8544  \n",
       "1     harvard-university  166027   2138  \n",
       "2  university-of-chicago  144050  60637  \n",
       "3        yale-university  130794   6520  \n",
       "4    columbia-university  190150  10027  \n",
       "\n",
       "[5 rows x 39 columns]"
      ]
     },
     "execution_count": 4,
     "metadata": {},
     "output_type": "execute_result"
    }
   ],
   "source": [
    "df.head()"
   ]
  },
  {
   "cell_type": "code",
   "execution_count": 5,
   "metadata": {},
   "outputs": [
    {
     "data": {
      "text/plain": [
       "(311, 39)"
      ]
     },
     "execution_count": 5,
     "metadata": {},
     "output_type": "execute_result"
    }
   ],
   "source": [
    "df.shape"
   ]
  },
  {
   "cell_type": "code",
   "execution_count": 6,
   "metadata": {},
   "outputs": [],
   "source": [
    "df.drop(columns=['aliasNames','nonResponder','nonResponderText',\n",
    "                 'primaryKey','primaryPhoto','primaryPhotoThumb',\n",
    "                 'ranking','rankingDisplayName','rankingDisplayScore',\n",
    "                 'rankingIsTied','rankingMaxPossibleScore','rankingNoteCharacter',\n",
    "                 'rankingRankStatus','rankingSortRank','rankingType',\n",
    "                 'rankingNoteText','region','xwalkId','zip'],\n",
    "        inplace=True)"
   ]
  },
  {
   "cell_type": "code",
   "execution_count": 7,
   "metadata": {},
   "outputs": [
    {
     "data": {
      "text/plain": [
       "Index(['acceptance-rate', 'act-avg', 'businessRepScore', 'city',\n",
       "       'cost-after-aid', 'displayName', 'engineeringRepScore', 'enrollment',\n",
       "       'hs-gpa-avg', 'institutionalControl', 'isPublic', 'overallRank',\n",
       "       'percent-receiving-aid', 'rankingDisplayRank', 'sat-avg', 'schoolType',\n",
       "       'sortName', 'state', 'tuition', 'urlName'],\n",
       "      dtype='object')"
      ]
     },
     "execution_count": 7,
     "metadata": {},
     "output_type": "execute_result"
    }
   ],
   "source": [
    "df.columns"
   ]
  },
  {
   "cell_type": "code",
   "execution_count": 8,
   "metadata": {
    "scrolled": true
   },
   "outputs": [
    {
     "data": {
      "text/plain": [
       "(311, 20)"
      ]
     },
     "execution_count": 8,
     "metadata": {},
     "output_type": "execute_result"
    }
   ],
   "source": [
    "df.shape"
   ]
  },
  {
   "cell_type": "code",
   "execution_count": 9,
   "metadata": {},
   "outputs": [
    {
     "data": {
      "text/plain": [
       "acceptance-rate            9\n",
       "act-avg                   20\n",
       "businessRepScore          77\n",
       "city                       0\n",
       "cost-after-aid           168\n",
       "displayName                0\n",
       "engineeringRepScore      105\n",
       "enrollment                11\n",
       "hs-gpa-avg                67\n",
       "institutionalControl       0\n",
       "isPublic                   0\n",
       "overallRank                0\n",
       "percent-receiving-aid    168\n",
       "rankingDisplayRank         0\n",
       "sat-avg                   20\n",
       "schoolType                 0\n",
       "sortName                   0\n",
       "state                      0\n",
       "tuition                    0\n",
       "urlName                    0\n",
       "dtype: int64"
      ]
     },
     "execution_count": 9,
     "metadata": {},
     "output_type": "execute_result"
    }
   ],
   "source": [
    "df.isnull().sum()"
   ]
  },
  {
   "cell_type": "code",
   "execution_count": 10,
   "metadata": {},
   "outputs": [
    {
     "data": {
      "text/html": [
       "<div>\n",
       "<style scoped>\n",
       "    .dataframe tbody tr th:only-of-type {\n",
       "        vertical-align: middle;\n",
       "    }\n",
       "\n",
       "    .dataframe tbody tr th {\n",
       "        vertical-align: top;\n",
       "    }\n",
       "\n",
       "    .dataframe thead th {\n",
       "        text-align: right;\n",
       "    }\n",
       "</style>\n",
       "<table border=\"1\" class=\"dataframe\">\n",
       "  <thead>\n",
       "    <tr style=\"text-align: right;\">\n",
       "      <th></th>\n",
       "      <th>count</th>\n",
       "      <th>mean</th>\n",
       "      <th>std</th>\n",
       "      <th>min</th>\n",
       "      <th>25%</th>\n",
       "      <th>50%</th>\n",
       "      <th>75%</th>\n",
       "      <th>max</th>\n",
       "    </tr>\n",
       "  </thead>\n",
       "  <tbody>\n",
       "    <tr>\n",
       "      <th>acceptance-rate</th>\n",
       "      <td>302.0</td>\n",
       "      <td>60.390728</td>\n",
       "      <td>22.546806</td>\n",
       "      <td>5.0</td>\n",
       "      <td>47.25</td>\n",
       "      <td>65.0</td>\n",
       "      <td>76.00</td>\n",
       "      <td>100.0</td>\n",
       "    </tr>\n",
       "    <tr>\n",
       "      <th>act-avg</th>\n",
       "      <td>291.0</td>\n",
       "      <td>23.024055</td>\n",
       "      <td>4.159257</td>\n",
       "      <td>15.0</td>\n",
       "      <td>20.00</td>\n",
       "      <td>22.0</td>\n",
       "      <td>26.00</td>\n",
       "      <td>34.0</td>\n",
       "    </tr>\n",
       "    <tr>\n",
       "      <th>businessRepScore</th>\n",
       "      <td>234.0</td>\n",
       "      <td>2.832479</td>\n",
       "      <td>0.590240</td>\n",
       "      <td>2.0</td>\n",
       "      <td>2.40</td>\n",
       "      <td>2.7</td>\n",
       "      <td>3.20</td>\n",
       "      <td>4.8</td>\n",
       "    </tr>\n",
       "    <tr>\n",
       "      <th>cost-after-aid</th>\n",
       "      <td>143.0</td>\n",
       "      <td>33920.867133</td>\n",
       "      <td>7625.493383</td>\n",
       "      <td>13186.0</td>\n",
       "      <td>28613.00</td>\n",
       "      <td>34621.0</td>\n",
       "      <td>38936.00</td>\n",
       "      <td>51810.0</td>\n",
       "    </tr>\n",
       "    <tr>\n",
       "      <th>engineeringRepScore</th>\n",
       "      <td>206.0</td>\n",
       "      <td>2.803398</td>\n",
       "      <td>0.645916</td>\n",
       "      <td>2.0</td>\n",
       "      <td>2.30</td>\n",
       "      <td>2.6</td>\n",
       "      <td>3.10</td>\n",
       "      <td>4.9</td>\n",
       "    </tr>\n",
       "    <tr>\n",
       "      <th>enrollment</th>\n",
       "      <td>300.0</td>\n",
       "      <td>14895.256667</td>\n",
       "      <td>10660.572830</td>\n",
       "      <td>133.0</td>\n",
       "      <td>6428.00</td>\n",
       "      <td>12104.5</td>\n",
       "      <td>21661.75</td>\n",
       "      <td>55776.0</td>\n",
       "    </tr>\n",
       "    <tr>\n",
       "      <th>hs-gpa-avg</th>\n",
       "      <td>244.0</td>\n",
       "      <td>3.543443</td>\n",
       "      <td>0.252066</td>\n",
       "      <td>2.8</td>\n",
       "      <td>3.40</td>\n",
       "      <td>3.5</td>\n",
       "      <td>3.70</td>\n",
       "      <td>4.0</td>\n",
       "    </tr>\n",
       "    <tr>\n",
       "      <th>overallRank</th>\n",
       "      <td>311.0</td>\n",
       "      <td>83.623794</td>\n",
       "      <td>75.788351</td>\n",
       "      <td>-2.0</td>\n",
       "      <td>-1.00</td>\n",
       "      <td>75.0</td>\n",
       "      <td>151.00</td>\n",
       "      <td>223.0</td>\n",
       "    </tr>\n",
       "    <tr>\n",
       "      <th>percent-receiving-aid</th>\n",
       "      <td>143.0</td>\n",
       "      <td>35.279720</td>\n",
       "      <td>17.163426</td>\n",
       "      <td>5.0</td>\n",
       "      <td>21.00</td>\n",
       "      <td>35.0</td>\n",
       "      <td>47.00</td>\n",
       "      <td>81.0</td>\n",
       "    </tr>\n",
       "    <tr>\n",
       "      <th>sat-avg</th>\n",
       "      <td>291.0</td>\n",
       "      <td>1044.027491</td>\n",
       "      <td>157.701571</td>\n",
       "      <td>715.0</td>\n",
       "      <td>930.00</td>\n",
       "      <td>1010.0</td>\n",
       "      <td>1130.00</td>\n",
       "      <td>1510.0</td>\n",
       "    </tr>\n",
       "    <tr>\n",
       "      <th>tuition</th>\n",
       "      <td>311.0</td>\n",
       "      <td>31121.340836</td>\n",
       "      <td>11995.242460</td>\n",
       "      <td>5460.0</td>\n",
       "      <td>21949.00</td>\n",
       "      <td>28500.0</td>\n",
       "      <td>41255.00</td>\n",
       "      <td>57208.0</td>\n",
       "    </tr>\n",
       "  </tbody>\n",
       "</table>\n",
       "</div>"
      ],
      "text/plain": [
       "                       count          mean           std      min       25%  \\\n",
       "acceptance-rate        302.0     60.390728     22.546806      5.0     47.25   \n",
       "act-avg                291.0     23.024055      4.159257     15.0     20.00   \n",
       "businessRepScore       234.0      2.832479      0.590240      2.0      2.40   \n",
       "cost-after-aid         143.0  33920.867133   7625.493383  13186.0  28613.00   \n",
       "engineeringRepScore    206.0      2.803398      0.645916      2.0      2.30   \n",
       "enrollment             300.0  14895.256667  10660.572830    133.0   6428.00   \n",
       "hs-gpa-avg             244.0      3.543443      0.252066      2.8      3.40   \n",
       "overallRank            311.0     83.623794     75.788351     -2.0     -1.00   \n",
       "percent-receiving-aid  143.0     35.279720     17.163426      5.0     21.00   \n",
       "sat-avg                291.0   1044.027491    157.701571    715.0    930.00   \n",
       "tuition                311.0  31121.340836  11995.242460   5460.0  21949.00   \n",
       "\n",
       "                           50%       75%      max  \n",
       "acceptance-rate           65.0     76.00    100.0  \n",
       "act-avg                   22.0     26.00     34.0  \n",
       "businessRepScore           2.7      3.20      4.8  \n",
       "cost-after-aid         34621.0  38936.00  51810.0  \n",
       "engineeringRepScore        2.6      3.10      4.9  \n",
       "enrollment             12104.5  21661.75  55776.0  \n",
       "hs-gpa-avg                 3.5      3.70      4.0  \n",
       "overallRank               75.0    151.00    223.0  \n",
       "percent-receiving-aid     35.0     47.00     81.0  \n",
       "sat-avg                 1010.0   1130.00   1510.0  \n",
       "tuition                28500.0  41255.00  57208.0  "
      ]
     },
     "execution_count": 10,
     "metadata": {},
     "output_type": "execute_result"
    }
   ],
   "source": [
    "df.describe().T"
   ]
  },
  {
   "cell_type": "code",
   "execution_count": 11,
   "metadata": {},
   "outputs": [],
   "source": [
    "name_list = [each for each in df['displayName']]"
   ]
  },
  {
   "cell_type": "code",
   "execution_count": 12,
   "metadata": {},
   "outputs": [],
   "source": [
    "df2 = pd.read_csv('uni_outcomes.csv')"
   ]
  },
  {
   "cell_type": "code",
   "execution_count": 13,
   "metadata": {},
   "outputs": [],
   "source": [
    "df2.drop(columns=\"Unnamed: 0\", inplace=True)"
   ]
  },
  {
   "cell_type": "code",
   "execution_count": 14,
   "metadata": {},
   "outputs": [
    {
     "data": {
      "text/plain": [
       "Index(['UNITID', 'OPEID', 'OPEID6', 'INSTNM', 'AGEGE24', 'PCT_WHITE',\n",
       "       'PCT_BLACK', 'PCT_ASIAN', 'PCT_HISPANIC', 'PCT_BA', 'PCT_GRAD_PROF',\n",
       "       'PCT_BORN_US', 'MEDIAN_HH_INC', 'POVERTY_RATE', 'UNEMP_RATE',\n",
       "       'LN_MEDIAN_HH_INC', 'COUNT_NWNE_P10', 'COUNT_WNE_P10',\n",
       "       'MN_EARN_WNE_P10', 'MD_EARN_WNE_P10', 'PCT10_EARN_WNE_P10',\n",
       "       'PCT25_EARN_WNE_P10', 'PCT75_EARN_WNE_P10', 'PCT90_EARN_WNE_P10',\n",
       "       'SD_EARN_WNE_P10', 'COUNT_WNE_INC1_P10', 'COUNT_WNE_INC2_P10',\n",
       "       'COUNT_WNE_INC3_P10', 'COUNT_WNE_INDEP0_INC1_P10',\n",
       "       'COUNT_WNE_INDEP0_P10', 'COUNT_WNE_INDEP1_P10', 'COUNT_WNE_MALE0_P10',\n",
       "       'COUNT_WNE_MALE1_P10', 'GT_25K_P10', 'MN_EARN_WNE_INC1_P10',\n",
       "       'MN_EARN_WNE_INC2_P10', 'MN_EARN_WNE_INC3_P10',\n",
       "       'MN_EARN_WNE_INDEP0_INC1_P10', 'MN_EARN_WNE_INDEP0_P10',\n",
       "       'MN_EARN_WNE_INDEP1_P10', 'MN_EARN_WNE_MALE0_P10',\n",
       "       'MN_EARN_WNE_MALE1_P10', 'COUNT_NWNE_P6', 'COUNT_WNE_P6',\n",
       "       'MN_EARN_WNE_P6', 'MD_EARN_WNE_P6', 'PCT10_EARN_WNE_P6',\n",
       "       'PCT25_EARN_WNE_P6', 'PCT75_EARN_WNE_P6', 'PCT90_EARN_WNE_P6',\n",
       "       'SD_EARN_WNE_P6', 'COUNT_WNE_INC1_P6', 'COUNT_WNE_INC2_P6',\n",
       "       'COUNT_WNE_INC3_P6', 'COUNT_WNE_INDEP0_INC1_P6', 'COUNT_WNE_INDEP0_P6',\n",
       "       'COUNT_WNE_INDEP1_P6', 'COUNT_WNE_MALE0_P6', 'COUNT_WNE_MALE1_P6',\n",
       "       'GT_25K_P6', 'MN_EARN_WNE_INC1_P6', 'MN_EARN_WNE_INC2_P6',\n",
       "       'MN_EARN_WNE_INC3_P6', 'MN_EARN_WNE_INDEP0_INC1_P6',\n",
       "       'MN_EARN_WNE_INDEP0_P6', 'MN_EARN_WNE_INDEP1_P6',\n",
       "       'MN_EARN_WNE_MALE0_P6', 'MN_EARN_WNE_MALE1_P6', 'COUNT_NWNE_P7',\n",
       "       'COUNT_WNE_P7', 'MN_EARN_WNE_P7', 'SD_EARN_WNE_P7', 'GT_25K_P7',\n",
       "       'COUNT_NWNE_P8', 'COUNT_WNE_P8', 'MN_EARN_WNE_P8', 'MD_EARN_WNE_P8',\n",
       "       'PCT10_EARN_WNE_P8', 'PCT25_EARN_WNE_P8', 'PCT75_EARN_WNE_P8',\n",
       "       'PCT90_EARN_WNE_P8', 'SD_EARN_WNE_P8', 'GT_25K_P8', 'COUNT_NWNE_P9',\n",
       "       'COUNT_WNE_P9', 'MN_EARN_WNE_P9', 'SD_EARN_WNE_P9', 'GT_25K_P9',\n",
       "       'GT_28K_P10', 'GT_28K_P8', 'GT_28K_P6'],\n",
       "      dtype='object')"
      ]
     },
     "execution_count": 14,
     "metadata": {},
     "output_type": "execute_result"
    }
   ],
   "source": [
    "df2.columns"
   ]
  },
  {
   "cell_type": "code",
   "execution_count": 15,
   "metadata": {},
   "outputs": [],
   "source": [
    "df2 = df2[['INSTNM','PCT_WHITE','PCT_ASIAN','PCT_BLACK',\n",
    "     'PCT_HISPANIC','PCT_BA','PCT_GRAD_PROF','PCT_BORN_US',\n",
    "     'MEDIAN_HH_INC','POVERTY_RATE','UNEMP_RATE',\n",
    "     'LN_MEDIAN_HH_INC','MN_EARN_WNE_P10']]"
   ]
  },
  {
   "cell_type": "code",
   "execution_count": 16,
   "metadata": {},
   "outputs": [],
   "source": [
    "final_unis = [each for each in df2['INSTNM']]"
   ]
  },
  {
   "cell_type": "code",
   "execution_count": 17,
   "metadata": {},
   "outputs": [],
   "source": [
    "index_list = []\n",
    "for each in final_unis:\n",
    "    if (df['displayName'] == each).sum() == 1:\n",
    "        index_list.append(df[df['displayName'] == each].index.values[0])\n",
    "    else:\n",
    "        pass"
   ]
  },
  {
   "cell_type": "code",
   "execution_count": 18,
   "metadata": {},
   "outputs": [
    {
     "name": "stderr",
     "output_type": "stream",
     "text": [
      "/anaconda3/lib/python3.6/site-packages/ipykernel_launcher.py:1: DeprecationWarning: \n",
      ".ix is deprecated. Please use\n",
      ".loc for label based indexing or\n",
      ".iloc for positional indexing\n",
      "\n",
      "See the documentation here:\n",
      "http://pandas.pydata.org/pandas-docs/stable/indexing.html#ix-indexer-is-deprecated\n",
      "  \"\"\"Entry point for launching an IPython kernel.\n"
     ]
    }
   ],
   "source": [
    "df = df.ix[index_list]"
   ]
  },
  {
   "cell_type": "code",
   "execution_count": 19,
   "metadata": {},
   "outputs": [],
   "source": [
    "df = df.merge(df2, on=df2['INSTNM'])"
   ]
  },
  {
   "cell_type": "code",
   "execution_count": 20,
   "metadata": {},
   "outputs": [],
   "source": [
    "df.drop(columns=['businessRepScore','cost-after-aid','engineeringRepScore','percent-receiving-aid'], inplace=True)"
   ]
  },
  {
   "cell_type": "code",
   "execution_count": 21,
   "metadata": {},
   "outputs": [
    {
     "data": {
      "text/plain": [
       "key_0                    0\n",
       "acceptance-rate          1\n",
       "act-avg                  3\n",
       "city                     0\n",
       "displayName              0\n",
       "enrollment               1\n",
       "hs-gpa-avg              20\n",
       "institutionalControl     0\n",
       "isPublic                 0\n",
       "overallRank              0\n",
       "rankingDisplayRank       0\n",
       "sat-avg                  7\n",
       "schoolType               0\n",
       "sortName                 0\n",
       "state                    0\n",
       "tuition                  0\n",
       "urlName                  0\n",
       "INSTNM                   0\n",
       "PCT_WHITE                0\n",
       "PCT_ASIAN                0\n",
       "PCT_BLACK                0\n",
       "PCT_HISPANIC             0\n",
       "PCT_BA                   0\n",
       "PCT_GRAD_PROF            0\n",
       "PCT_BORN_US              0\n",
       "MEDIAN_HH_INC            0\n",
       "POVERTY_RATE             0\n",
       "UNEMP_RATE               0\n",
       "LN_MEDIAN_HH_INC         0\n",
       "MN_EARN_WNE_P10          0\n",
       "dtype: int64"
      ]
     },
     "execution_count": 21,
     "metadata": {},
     "output_type": "execute_result"
    }
   ],
   "source": [
    "df.isnull().sum()"
   ]
  },
  {
   "cell_type": "code",
   "execution_count": 22,
   "metadata": {},
   "outputs": [],
   "source": [
    "df['acceptance-rate'].fillna(df['acceptance-rate'].mean(), inplace=True)\n",
    "df['act-avg'].fillna(df['act-avg'].mean(), inplace=True)\n",
    "df['enrollment'].fillna(df['enrollment'].mean(), inplace=True)\n",
    "df['hs-gpa-avg'].fillna(df['hs-gpa-avg'].mean(), inplace=True)\n",
    "df['sat-avg'].fillna(df['sat-avg'].mean(), inplace=True)"
   ]
  },
  {
   "cell_type": "code",
   "execution_count": 23,
   "metadata": {},
   "outputs": [
    {
     "data": {
      "text/plain": [
       "key_0                   0\n",
       "acceptance-rate         0\n",
       "act-avg                 0\n",
       "city                    0\n",
       "displayName             0\n",
       "enrollment              0\n",
       "hs-gpa-avg              0\n",
       "institutionalControl    0\n",
       "isPublic                0\n",
       "overallRank             0\n",
       "rankingDisplayRank      0\n",
       "sat-avg                 0\n",
       "schoolType              0\n",
       "sortName                0\n",
       "state                   0\n",
       "tuition                 0\n",
       "urlName                 0\n",
       "INSTNM                  0\n",
       "PCT_WHITE               0\n",
       "PCT_ASIAN               0\n",
       "PCT_BLACK               0\n",
       "PCT_HISPANIC            0\n",
       "PCT_BA                  0\n",
       "PCT_GRAD_PROF           0\n",
       "PCT_BORN_US             0\n",
       "MEDIAN_HH_INC           0\n",
       "POVERTY_RATE            0\n",
       "UNEMP_RATE              0\n",
       "LN_MEDIAN_HH_INC        0\n",
       "MN_EARN_WNE_P10         0\n",
       "dtype: int64"
      ]
     },
     "execution_count": 23,
     "metadata": {},
     "output_type": "execute_result"
    }
   ],
   "source": [
    "df.isnull().sum()"
   ]
  },
  {
   "cell_type": "code",
   "execution_count": 24,
   "metadata": {},
   "outputs": [
    {
     "data": {
      "text/plain": [
       "key_0                    object\n",
       "acceptance-rate         float64\n",
       "act-avg                 float64\n",
       "city                     object\n",
       "displayName              object\n",
       "enrollment              float64\n",
       "hs-gpa-avg              float64\n",
       "institutionalControl     object\n",
       "isPublic                   bool\n",
       "overallRank               int64\n",
       "rankingDisplayRank       object\n",
       "sat-avg                 float64\n",
       "schoolType               object\n",
       "sortName                 object\n",
       "state                    object\n",
       "tuition                   int64\n",
       "urlName                  object\n",
       "INSTNM                   object\n",
       "PCT_WHITE               float64\n",
       "PCT_ASIAN               float64\n",
       "PCT_BLACK               float64\n",
       "PCT_HISPANIC            float64\n",
       "PCT_BA                  float64\n",
       "PCT_GRAD_PROF           float64\n",
       "PCT_BORN_US             float64\n",
       "MEDIAN_HH_INC           float64\n",
       "POVERTY_RATE            float64\n",
       "UNEMP_RATE              float64\n",
       "LN_MEDIAN_HH_INC        float64\n",
       "MN_EARN_WNE_P10         float64\n",
       "dtype: object"
      ]
     },
     "execution_count": 24,
     "metadata": {},
     "output_type": "execute_result"
    }
   ],
   "source": [
    "df.dtypes"
   ]
  },
  {
   "cell_type": "code",
   "execution_count": 25,
   "metadata": {
    "scrolled": true
   },
   "outputs": [],
   "source": [
    "df['isPublic'] = df['isPublic'].map({True: 1, False: 0}).astype(int)"
   ]
  },
  {
   "cell_type": "code",
   "execution_count": 26,
   "metadata": {},
   "outputs": [
    {
     "data": {
      "text/plain": [
       "key_0                    object\n",
       "acceptance-rate         float64\n",
       "act-avg                 float64\n",
       "city                     object\n",
       "displayName              object\n",
       "enrollment              float64\n",
       "hs-gpa-avg              float64\n",
       "institutionalControl     object\n",
       "isPublic                  int64\n",
       "overallRank               int64\n",
       "rankingDisplayRank       object\n",
       "sat-avg                 float64\n",
       "schoolType               object\n",
       "sortName                 object\n",
       "state                    object\n",
       "tuition                   int64\n",
       "urlName                  object\n",
       "INSTNM                   object\n",
       "PCT_WHITE               float64\n",
       "PCT_ASIAN               float64\n",
       "PCT_BLACK               float64\n",
       "PCT_HISPANIC            float64\n",
       "PCT_BA                  float64\n",
       "PCT_GRAD_PROF           float64\n",
       "PCT_BORN_US             float64\n",
       "MEDIAN_HH_INC           float64\n",
       "POVERTY_RATE            float64\n",
       "UNEMP_RATE              float64\n",
       "LN_MEDIAN_HH_INC        float64\n",
       "MN_EARN_WNE_P10         float64\n",
       "dtype: object"
      ]
     },
     "execution_count": 26,
     "metadata": {},
     "output_type": "execute_result"
    }
   ],
   "source": [
    "df.dtypes"
   ]
  },
  {
   "cell_type": "code",
   "execution_count": 27,
   "metadata": {},
   "outputs": [],
   "source": [
    "df.drop(columns=['key_0','schoolType'], inplace=True)"
   ]
  },
  {
   "cell_type": "code",
   "execution_count": 28,
   "metadata": {},
   "outputs": [
    {
     "data": {
      "text/plain": [
       "<matplotlib.axes._subplots.AxesSubplot at 0x120734828>"
      ]
     },
     "execution_count": 28,
     "metadata": {},
     "output_type": "execute_result"
    },
    {
     "data": {
      "image/png": "[encoded data removed]",
      "text/plain": [
       "<Figure size 576x720 with 2 Axes>"
      ]
     },
     "metadata": {
      "needs_background": "light"
     },
     "output_type": "display_data"
    }
   ],
   "source": [
    "plt.figure(figsize=(8,10))\n",
    "sns.heatmap(df.corr()[['MN_EARN_WNE_P10']].sort_values(by='MN_EARN_WNE_P10', ascending=False),\n",
    "            cmap='viridis', annot=True, vmin=-1, vmax=1)"
   ]
  },
  {
   "cell_type": "code",
   "execution_count": 29,
   "metadata": {},
   "outputs": [
    {
     "data": {
      "image/png": "[encoded data removed]",
      "text/plain": [
       "<Figure size 720x576 with 1 Axes>"
      ]
     },
     "metadata": {
      "needs_background": "light"
     },
     "output_type": "display_data"
    }
   ],
   "source": [
    "plt.figure(figsize=(10,8))\n",
    "plt.scatter(df['tuition'],df['MN_EARN_WNE_P10'])\n",
    "plt.xlabel('Tuition')\n",
    "plt.ylabel('10-Year Salary')\n",
    "plt.title('Tuition vs Post-Grad Salary');"
   ]
  },
  {
   "cell_type": "code",
   "execution_count": 30,
   "metadata": {},
   "outputs": [
    {
     "data": {
      "image/png": "[encoded data removed]",
      "text/plain": [
       "<Figure size 504x576 with 1 Axes>"
      ]
     },
     "metadata": {
      "needs_background": "light"
     },
     "output_type": "display_data"
    }
   ],
   "source": [
    "plt.figure(figsize=(7,8))\n",
    "plt.hist(df['MN_EARN_WNE_P10'])\n",
    "plt.title('Salaries after 10 Years');"
   ]
  },
  {
   "cell_type": "code",
   "execution_count": 31,
   "metadata": {},
   "outputs": [
    {
     "data": {
      "image/png": "[encoded data removed]",
      "text/plain": [
       "<Figure size 576x504 with 1 Axes>"
      ]
     },
     "metadata": {
      "needs_background": "light"
     },
     "output_type": "display_data"
    }
   ],
   "source": [
    "plt.figure(figsize=(8,7))\n",
    "plt.scatter(df['tuition'],df['MN_EARN_WNE_P10'])\n",
    "plt.xlabel('Tuition')\n",
    "plt.ylabel('10-Year Salary')\n",
    "plt.title('Tuition vs Post-Grad Salary');"
   ]
  },
  {
   "cell_type": "code",
   "execution_count": 32,
   "metadata": {},
   "outputs": [
    {
     "data": {
      "image/png": "[encoded data removed]",
      "text/plain": [
       "<Figure size 432x432 with 1 Axes>"
      ]
     },
     "metadata": {
      "needs_background": "light"
     },
     "output_type": "display_data"
    }
   ],
   "source": [
    "plt.figure(figsize=(6,6))\n",
    "plt.scatter(df['sat-avg'],df['MN_EARN_WNE_P10'])\n",
    "plt.xlabel('SAT Averages')\n",
    "plt.ylabel('10-Year Salary')\n",
    "plt.title('SAT Averages vs Post-Grad Salary');"
   ]
  },
  {
   "cell_type": "code",
   "execution_count": 33,
   "metadata": {},
   "outputs": [
    {
     "data": {
      "image/png": "[encoded data removed]",
      "text/plain": [
       "<Figure size 432x432 with 1 Axes>"
      ]
     },
     "metadata": {
      "needs_background": "light"
     },
     "output_type": "display_data"
    }
   ],
   "source": [
    "plt.figure(figsize=(6,6))\n",
    "plt.scatter(df['act-avg'],df['MN_EARN_WNE_P10'], color='red')\n",
    "plt.xlabel('ACT Averages')\n",
    "plt.ylabel('10-Year Salary')\n",
    "plt.title('ACT Averages vs Post-Grad Salary');"
   ]
  },
  {
   "cell_type": "code",
   "execution_count": 34,
   "metadata": {},
   "outputs": [
    {
     "data": {
      "image/png": "[encoded data removed]",
      "text/plain": [
       "<Figure size 432x432 with 1 Axes>"
      ]
     },
     "metadata": {
      "needs_background": "light"
     },
     "output_type": "display_data"
    }
   ],
   "source": [
    "plt.figure(figsize=(6,6))\n",
    "plt.scatter(df['acceptance-rate'],df['MN_EARN_WNE_P10'], color='green')\n",
    "plt.xlabel('Acceptance Rates')\n",
    "plt.ylabel('10-Year Salary')\n",
    "plt.title('Acceptance Rates vs Post-Grad Salary');"
   ]
  },
  {
   "cell_type": "code",
   "execution_count": 35,
   "metadata": {},
   "outputs": [
    {
     "data": {
      "text/plain": [
       "-1"
      ]
     },
     "execution_count": 35,
     "metadata": {},
     "output_type": "execute_result"
    }
   ],
   "source": [
    "df.loc[84,'overallRank']"
   ]
  },
  {
   "cell_type": "code",
   "execution_count": 36,
   "metadata": {},
   "outputs": [],
   "source": [
    "for each in list(range(84,124)):\n",
    "    df.loc[each,'overallRank'] = each + 150"
   ]
  },
  {
   "cell_type": "code",
   "execution_count": 37,
   "metadata": {},
   "outputs": [
    {
     "data": {
      "image/png": "[encoded data removed]",
      "text/plain": [
       "<Figure size 432x432 with 1 Axes>"
      ]
     },
     "metadata": {
      "needs_background": "light"
     },
     "output_type": "display_data"
    }
   ],
   "source": [
    "plt.figure(figsize=(6,6))\n",
    "plt.scatter(df['overallRank'],df['MN_EARN_WNE_P10'], color='green')\n",
    "plt.xlabel('Rank')\n",
    "plt.ylabel('10-Year Salary')\n",
    "plt.title('Ranking vs Post-Grad Salary');"
   ]
  },
  {
   "cell_type": "code",
   "execution_count": 38,
   "metadata": {},
   "outputs": [
    {
     "data": {
      "text/html": [
       "<div>\n",
       "<style scoped>\n",
       "    .dataframe tbody tr th:only-of-type {\n",
       "        vertical-align: middle;\n",
       "    }\n",
       "\n",
       "    .dataframe tbody tr th {\n",
       "        vertical-align: top;\n",
       "    }\n",
       "\n",
       "    .dataframe thead th {\n",
       "        text-align: right;\n",
       "    }\n",
       "</style>\n",
       "<table border=\"1\" class=\"dataframe\">\n",
       "  <thead>\n",
       "    <tr style=\"text-align: right;\">\n",
       "      <th></th>\n",
       "      <th>displayName</th>\n",
       "      <th>acceptance-rate</th>\n",
       "      <th>tuition</th>\n",
       "      <th>MN_EARN_WNE_P10</th>\n",
       "    </tr>\n",
       "  </thead>\n",
       "  <tbody>\n",
       "    <tr>\n",
       "      <th>0</th>\n",
       "      <td>Harvard University</td>\n",
       "      <td>5.0</td>\n",
       "      <td>48949</td>\n",
       "      <td>139100.0</td>\n",
       "    </tr>\n",
       "    <tr>\n",
       "      <th>1</th>\n",
       "      <td>University of Chicago</td>\n",
       "      <td>8.0</td>\n",
       "      <td>54825</td>\n",
       "      <td>103000.0</td>\n",
       "    </tr>\n",
       "    <tr>\n",
       "      <th>2</th>\n",
       "      <td>Yale University</td>\n",
       "      <td>6.0</td>\n",
       "      <td>51400</td>\n",
       "      <td>124400.0</td>\n",
       "    </tr>\n",
       "    <tr>\n",
       "      <th>3</th>\n",
       "      <td>Stanford University</td>\n",
       "      <td>5.0</td>\n",
       "      <td>49617</td>\n",
       "      <td>141300.0</td>\n",
       "    </tr>\n",
       "    <tr>\n",
       "      <th>4</th>\n",
       "      <td>University of Pennsylvania</td>\n",
       "      <td>9.0</td>\n",
       "      <td>53534</td>\n",
       "      <td>131600.0</td>\n",
       "    </tr>\n",
       "    <tr>\n",
       "      <th>5</th>\n",
       "      <td>Duke University</td>\n",
       "      <td>11.0</td>\n",
       "      <td>53744</td>\n",
       "      <td>114500.0</td>\n",
       "    </tr>\n",
       "    <tr>\n",
       "      <th>8</th>\n",
       "      <td>Georgetown University</td>\n",
       "      <td>17.0</td>\n",
       "      <td>52300</td>\n",
       "      <td>125200.0</td>\n",
       "    </tr>\n",
       "    <tr>\n",
       "      <th>10</th>\n",
       "      <td>Tufts University</td>\n",
       "      <td>14.0</td>\n",
       "      <td>54318</td>\n",
       "      <td>103300.0</td>\n",
       "    </tr>\n",
       "  </tbody>\n",
       "</table>\n",
       "</div>"
      ],
      "text/plain": [
       "                   displayName  acceptance-rate  tuition  MN_EARN_WNE_P10\n",
       "0           Harvard University              5.0    48949         139100.0\n",
       "1        University of Chicago              8.0    54825         103000.0\n",
       "2              Yale University              6.0    51400         124400.0\n",
       "3          Stanford University              5.0    49617         141300.0\n",
       "4   University of Pennsylvania              9.0    53534         131600.0\n",
       "5              Duke University             11.0    53744         114500.0\n",
       "8        Georgetown University             17.0    52300         125200.0\n",
       "10            Tufts University             14.0    54318         103300.0"
      ]
     },
     "execution_count": 38,
     "metadata": {},
     "output_type": "execute_result"
    }
   ],
   "source": [
    "high_sat = df[df['sat-avg'] > 1200]\n",
    "high_sat[high_sat['MN_EARN_WNE_P10'] > 100000][['displayName','acceptance-rate','tuition','MN_EARN_WNE_P10']]"
   ]
  },
  {
   "cell_type": "code",
   "execution_count": 39,
   "metadata": {},
   "outputs": [],
   "source": [
    "X = df[['acceptance-rate','act-avg','enrollment','hs-gpa-avg','isPublic',\n",
    "        'overallRank','sat-avg','tuition','PCT_WHITE',\n",
    "        'PCT_ASIAN','PCT_BLACK','PCT_HISPANIC','PCT_BA','PCT_GRAD_PROF','PCT_BORN_US',\n",
    "        'MEDIAN_HH_INC','POVERTY_RATE','UNEMP_RATE','LN_MEDIAN_HH_INC']]\n",
    "y = df['MN_EARN_WNE_P10']\n",
    "\n",
    "X_train, X_test, y_train, y_test = train_test_split(X, y, random_state=42)"
   ]
  },
  {
   "cell_type": "code",
   "execution_count": 40,
   "metadata": {},
   "outputs": [
    {
     "name": "stderr",
     "output_type": "stream",
     "text": [
      "/anaconda3/lib/python3.6/site-packages/sklearn/preprocessing/data.py:625: DataConversionWarning: Data with input dtype int64, float64 were all converted to float64 by StandardScaler.\n",
      "  return self.partial_fit(X, y)\n",
      "/anaconda3/lib/python3.6/site-packages/sklearn/base.py:462: DataConversionWarning: Data with input dtype int64, float64 were all converted to float64 by StandardScaler.\n",
      "  return self.fit(X, **fit_params).transform(X)\n",
      "/anaconda3/lib/python3.6/site-packages/ipykernel_launcher.py:4: DataConversionWarning: Data with input dtype int64, float64 were all converted to float64 by StandardScaler.\n",
      "  after removing the cwd from sys.path.\n"
     ]
    }
   ],
   "source": [
    "ss = StandardScaler()\n",
    "\n",
    "X_train_sc = ss.fit_transform(X_train)\n",
    "X_test_sc = ss.transform(X_test)"
   ]
  },
  {
   "cell_type": "code",
   "execution_count": 41,
   "metadata": {},
   "outputs": [
    {
     "data": {
      "text/plain": [
       "(0.861500196196263, 0.7838709086435813)"
      ]
     },
     "execution_count": 41,
     "metadata": {},
     "output_type": "execute_result"
    }
   ],
   "source": [
    "lr = LinearRegression()\n",
    "\n",
    "lr.fit(X_train_sc, y_train)\n",
    "lr.score(X_train_sc, y_train), lr.score(X_test_sc, y_test)"
   ]
  },
  {
   "cell_type": "code",
   "execution_count": 42,
   "metadata": {},
   "outputs": [
    {
     "data": {
      "text/plain": [
       "array([-4.47457233e+02,  1.06541225e+03, -1.67164850e+03, -3.42438678e+03,\n",
       "        3.09228199e-11,  2.63278543e+01,  1.51108046e+04,  1.68690205e+03,\n",
       "       -2.69099188e+03,  5.89228694e+03,  8.60328028e+02,  5.90231818e+03,\n",
       "       -4.94465072e+03,  4.90661499e+03,  2.72305947e+03,  2.98588917e+04,\n",
       "       -1.54307098e+04,  1.82249825e+03, -4.20206556e+04])"
      ]
     },
     "execution_count": 42,
     "metadata": {},
     "output_type": "execute_result"
    }
   ],
   "source": [
    "lr.coef_"
   ]
  },
  {
   "cell_type": "code",
   "execution_count": 43,
   "metadata": {},
   "outputs": [],
   "source": [
    "from sklearn.linear_model import RidgeCV, LassoCV"
   ]
  },
  {
   "cell_type": "code",
   "execution_count": 44,
   "metadata": {},
   "outputs": [
    {
     "data": {
      "text/plain": [
       "(0.8518782522549115, 0.8001429689207956)"
      ]
     },
     "execution_count": 44,
     "metadata": {},
     "output_type": "execute_result"
    }
   ],
   "source": [
    "rcv = RidgeCV()\n",
    "\n",
    "rcv.fit(X_train_sc, y_train)\n",
    "rcv.score(X_train_sc, y_train), rcv.score(X_test_sc, y_test)"
   ]
  },
  {
   "cell_type": "code",
   "execution_count": 45,
   "metadata": {},
   "outputs": [],
   "source": [
    "predictions = rcv.predict(X_test)"
   ]
  },
  {
   "cell_type": "code",
   "execution_count": 46,
   "metadata": {},
   "outputs": [
    {
     "data": {
      "text/plain": [
       "Text(0, 0.5, 'Predicted Salary')"
      ]
     },
     "execution_count": 46,
     "metadata": {},
     "output_type": "execute_result"
    },
    {
     "data": {
      "image/png": "[encoded data removed]",
      "text/plain": [
       "<Figure size 720x432 with 1 Axes>"
      ]
     },
     "metadata": {
      "needs_background": "light"
     },
     "output_type": "display_data"
    }
   ],
   "source": [
    "plt.figure(figsize=[10,6])\n",
    "sns.regplot(x=y_test, y=predictions)\n",
    "plt.title('Regression of True 10-Year Salary vs Predicted Salary')\n",
    "plt.xlabel('True 10-Year Salary')\n",
    "plt.ylabel('Predicted Salary')"
   ]
  },
  {
   "cell_type": "code",
   "execution_count": 47,
   "metadata": {},
   "outputs": [],
   "source": [
    "df['MN_EARN_WNE_P10_log'] = np.log(df['MN_EARN_WNE_P10'])"
   ]
  },
  {
   "cell_type": "code",
   "execution_count": 48,
   "metadata": {},
   "outputs": [
    {
     "data": {
      "image/png": "[encoded data removed]",
      "text/plain": [
       "<Figure size 504x576 with 1 Axes>"
      ]
     },
     "metadata": {
      "needs_background": "light"
     },
     "output_type": "display_data"
    }
   ],
   "source": [
    "plt.figure(figsize=(7,8))\n",
    "plt.hist(df['MN_EARN_WNE_P10_log'], color='green')\n",
    "plt.title('Log-Salaries after 10 Years');"
   ]
  },
  {
   "cell_type": "code",
   "execution_count": 49,
   "metadata": {},
   "outputs": [],
   "source": [
    "X = df[['acceptance-rate','act-avg','enrollment','hs-gpa-avg',\n",
    "        'overallRank','sat-avg','tuition','PCT_WHITE',\n",
    "        'PCT_ASIAN','PCT_BLACK','PCT_HISPANIC','PCT_BA','PCT_GRAD_PROF','PCT_BORN_US',\n",
    "        'MEDIAN_HH_INC','POVERTY_RATE','UNEMP_RATE','LN_MEDIAN_HH_INC']]\n",
    "y2 = df['MN_EARN_WNE_P10_log']\n",
    "\n",
    "X_train2, X_test2, y_train2, y_test2 = train_test_split(X, y2, random_state=42)"
   ]
  },
  {
   "cell_type": "code",
   "execution_count": 50,
   "metadata": {},
   "outputs": [
    {
     "name": "stderr",
     "output_type": "stream",
     "text": [
      "/anaconda3/lib/python3.6/site-packages/sklearn/preprocessing/data.py:625: DataConversionWarning: Data with input dtype int64, float64 were all converted to float64 by StandardScaler.\n",
      "  return self.partial_fit(X, y)\n",
      "/anaconda3/lib/python3.6/site-packages/sklearn/base.py:462: DataConversionWarning: Data with input dtype int64, float64 were all converted to float64 by StandardScaler.\n",
      "  return self.fit(X, **fit_params).transform(X)\n",
      "/anaconda3/lib/python3.6/site-packages/ipykernel_launcher.py:4: DataConversionWarning: Data with input dtype int64, float64 were all converted to float64 by StandardScaler.\n",
      "  after removing the cwd from sys.path.\n"
     ]
    }
   ],
   "source": [
    "ss = StandardScaler()\n",
    "\n",
    "X_train2_sc = ss.fit_transform(X_train2)\n",
    "X_test2_sc = ss.transform(X_test2)"
   ]
  },
  {
   "cell_type": "code",
   "execution_count": 51,
   "metadata": {},
   "outputs": [
    {
     "data": {
      "text/plain": [
       "(0.8909066246042493, 0.8321574913746684)"
      ]
     },
     "execution_count": 51,
     "metadata": {},
     "output_type": "execute_result"
    }
   ],
   "source": [
    "lr_log = LinearRegression()\n",
    "\n",
    "lr_log.fit(X_train2_sc, y_train2)\n",
    "lr_log.score(X_train2_sc, y_train2), lr_log.score(X_test2_sc, y_test2)"
   ]
  },
  {
   "cell_type": "code",
   "execution_count": 52,
   "metadata": {},
   "outputs": [
    {
     "data": {
      "text/plain": [
       "array([ 0.02127887,  0.03638049, -0.01386854, -0.03515766, -0.02254301,\n",
       "        0.18059147,  0.03993019,  0.00691997,  0.08971518,  0.03330563,\n",
       "        0.06924766, -0.05243455,  0.01706852,  0.01480251,  0.45006303,\n",
       "       -0.19089935,  0.02449293, -0.57625456])"
      ]
     },
     "execution_count": 52,
     "metadata": {},
     "output_type": "execute_result"
    }
   ],
   "source": [
    "lr_log.coef_"
   ]
  },
  {
   "cell_type": "code",
   "execution_count": 53,
   "metadata": {},
   "outputs": [
    {
     "data": {
      "text/plain": [
       "(0.8206132119237346, 0.8329838579853057)"
      ]
     },
     "execution_count": 53,
     "metadata": {},
     "output_type": "execute_result"
    }
   ],
   "source": [
    "lcv_log = LassoCV(cv=5)\n",
    "\n",
    "lcv_log.fit(X_train2,y_train2)\n",
    "lcv_log.score(X_train2,y_train2), lcv_log.score(X_test2, y_test2)"
   ]
  },
  {
   "cell_type": "code",
   "execution_count": 54,
   "metadata": {},
   "outputs": [
    {
     "name": "stderr",
     "output_type": "stream",
     "text": [
      "/anaconda3/lib/python3.6/site-packages/sklearn/model_selection/_search.py:841: DeprecationWarning: The default of the `iid` parameter will change from True to False in version 0.22 and will be removed in 0.24. This will change numeric results when test-set sizes are unequal.\n",
      "  DeprecationWarning)\n"
     ]
    },
    {
     "data": {
      "text/plain": [
       "(0.8758735880336569, 0.8736897986622507)"
      ]
     },
     "execution_count": 54,
     "metadata": {},
     "output_type": "execute_result"
    }
   ],
   "source": [
    "rcv_log = RidgeCV(cv=5)\n",
    "\n",
    "rcv_log.fit(X_train2,y_train2)\n",
    "rcv_log.score(X_train2,y_train2), rcv_log.score(X_test2, y_test2)"
   ]
  },
  {
   "cell_type": "code",
   "execution_count": 55,
   "metadata": {},
   "outputs": [
    {
     "name": "stderr",
     "output_type": "stream",
     "text": [
      "/anaconda3/lib/python3.6/site-packages/sklearn/model_selection/_search.py:841: DeprecationWarning: The default of the `iid` parameter will change from True to False in version 0.22 and will be removed in 0.24. This will change numeric results when test-set sizes are unequal.\n",
      "  DeprecationWarning)\n"
     ]
    },
    {
     "data": {
      "text/plain": [
       "(0.8686215422738418, 0.8633198664510751)"
      ]
     },
     "execution_count": 55,
     "metadata": {},
     "output_type": "execute_result"
    }
   ],
   "source": [
    "rcv_log_sc = RidgeCV(cv=5)\n",
    "\n",
    "rcv_log_sc.fit(X_train2_sc, y_train2)\n",
    "rcv_log_sc.score(X_train2_sc, y_train2), rcv_log_sc.score(X_test2_sc, y_test2)"
   ]
  },
  {
   "cell_type": "code",
   "execution_count": 56,
   "metadata": {},
   "outputs": [
    {
     "data": {
      "text/plain": [
       "array([ 5.24594057e-04, -5.18119701e-04, -1.83225121e-06, -2.34488794e-02,\n",
       "       -7.36995193e-04,  1.13058084e-03,  1.21761871e-06,  5.92686347e-03,\n",
       "        2.66719516e-02,  4.72729556e-03,  5.87770507e-03, -6.54196030e-03,\n",
       "        9.38434774e-03,  3.64841599e-03, -2.09145530e-06, -5.13366040e-03,\n",
       "       -2.04891546e-03, -1.78163889e-03])"
      ]
     },
     "execution_count": 56,
     "metadata": {},
     "output_type": "execute_result"
    }
   ],
   "source": [
    "rcv_log.coef_"
   ]
  },
  {
   "cell_type": "code",
   "execution_count": 57,
   "metadata": {},
   "outputs": [],
   "source": [
    "coefficients = pd.DataFrame(X.columns)\n",
    "coefficients['values'] = pd.DataFrame(np.exp(rcv_log.coef_).T)"
   ]
  },
  {
   "cell_type": "code",
   "execution_count": 58,
   "metadata": {},
   "outputs": [
    {
     "data": {
      "text/html": [
       "<div>\n",
       "<style scoped>\n",
       "    .dataframe tbody tr th:only-of-type {\n",
       "        vertical-align: middle;\n",
       "    }\n",
       "\n",
       "    .dataframe tbody tr th {\n",
       "        vertical-align: top;\n",
       "    }\n",
       "\n",
       "    .dataframe thead th {\n",
       "        text-align: right;\n",
       "    }\n",
       "</style>\n",
       "<table border=\"1\" class=\"dataframe\">\n",
       "  <thead>\n",
       "    <tr style=\"text-align: right;\">\n",
       "      <th></th>\n",
       "      <th>0</th>\n",
       "      <th>values</th>\n",
       "    </tr>\n",
       "  </thead>\n",
       "  <tbody>\n",
       "    <tr>\n",
       "      <th>0</th>\n",
       "      <td>acceptance-rate</td>\n",
       "      <td>1.000525</td>\n",
       "    </tr>\n",
       "    <tr>\n",
       "      <th>1</th>\n",
       "      <td>act-avg</td>\n",
       "      <td>0.999482</td>\n",
       "    </tr>\n",
       "    <tr>\n",
       "      <th>2</th>\n",
       "      <td>enrollment</td>\n",
       "      <td>0.999998</td>\n",
       "    </tr>\n",
       "    <tr>\n",
       "      <th>3</th>\n",
       "      <td>hs-gpa-avg</td>\n",
       "      <td>0.976824</td>\n",
       "    </tr>\n",
       "    <tr>\n",
       "      <th>4</th>\n",
       "      <td>overallRank</td>\n",
       "      <td>0.999263</td>\n",
       "    </tr>\n",
       "    <tr>\n",
       "      <th>5</th>\n",
       "      <td>sat-avg</td>\n",
       "      <td>1.001131</td>\n",
       "    </tr>\n",
       "    <tr>\n",
       "      <th>6</th>\n",
       "      <td>tuition</td>\n",
       "      <td>1.000001</td>\n",
       "    </tr>\n",
       "    <tr>\n",
       "      <th>7</th>\n",
       "      <td>PCT_WHITE</td>\n",
       "      <td>1.005944</td>\n",
       "    </tr>\n",
       "    <tr>\n",
       "      <th>8</th>\n",
       "      <td>PCT_ASIAN</td>\n",
       "      <td>1.027031</td>\n",
       "    </tr>\n",
       "    <tr>\n",
       "      <th>9</th>\n",
       "      <td>PCT_BLACK</td>\n",
       "      <td>1.004738</td>\n",
       "    </tr>\n",
       "    <tr>\n",
       "      <th>10</th>\n",
       "      <td>PCT_HISPANIC</td>\n",
       "      <td>1.005895</td>\n",
       "    </tr>\n",
       "    <tr>\n",
       "      <th>11</th>\n",
       "      <td>PCT_BA</td>\n",
       "      <td>0.993479</td>\n",
       "    </tr>\n",
       "    <tr>\n",
       "      <th>12</th>\n",
       "      <td>PCT_GRAD_PROF</td>\n",
       "      <td>1.009429</td>\n",
       "    </tr>\n",
       "    <tr>\n",
       "      <th>13</th>\n",
       "      <td>PCT_BORN_US</td>\n",
       "      <td>1.003655</td>\n",
       "    </tr>\n",
       "    <tr>\n",
       "      <th>14</th>\n",
       "      <td>MEDIAN_HH_INC</td>\n",
       "      <td>0.999998</td>\n",
       "    </tr>\n",
       "    <tr>\n",
       "      <th>15</th>\n",
       "      <td>POVERTY_RATE</td>\n",
       "      <td>0.994879</td>\n",
       "    </tr>\n",
       "    <tr>\n",
       "      <th>16</th>\n",
       "      <td>UNEMP_RATE</td>\n",
       "      <td>0.997953</td>\n",
       "    </tr>\n",
       "    <tr>\n",
       "      <th>17</th>\n",
       "      <td>LN_MEDIAN_HH_INC</td>\n",
       "      <td>0.998220</td>\n",
       "    </tr>\n",
       "  </tbody>\n",
       "</table>\n",
       "</div>"
      ],
      "text/plain": [
       "                   0    values\n",
       "0    acceptance-rate  1.000525\n",
       "1            act-avg  0.999482\n",
       "2         enrollment  0.999998\n",
       "3         hs-gpa-avg  0.976824\n",
       "4        overallRank  0.999263\n",
       "5            sat-avg  1.001131\n",
       "6            tuition  1.000001\n",
       "7          PCT_WHITE  1.005944\n",
       "8          PCT_ASIAN  1.027031\n",
       "9          PCT_BLACK  1.004738\n",
       "10      PCT_HISPANIC  1.005895\n",
       "11            PCT_BA  0.993479\n",
       "12     PCT_GRAD_PROF  1.009429\n",
       "13       PCT_BORN_US  1.003655\n",
       "14     MEDIAN_HH_INC  0.999998\n",
       "15      POVERTY_RATE  0.994879\n",
       "16        UNEMP_RATE  0.997953\n",
       "17  LN_MEDIAN_HH_INC  0.998220"
      ]
     },
     "execution_count": 58,
     "metadata": {},
     "output_type": "execute_result"
    }
   ],
   "source": [
    "coefficients"
   ]
  },
  {
   "cell_type": "code",
   "execution_count": 59,
   "metadata": {},
   "outputs": [
    {
     "data": {
      "text/html": [
       "<div>\n",
       "<style scoped>\n",
       "    .dataframe tbody tr th:only-of-type {\n",
       "        vertical-align: middle;\n",
       "    }\n",
       "\n",
       "    .dataframe tbody tr th {\n",
       "        vertical-align: top;\n",
       "    }\n",
       "\n",
       "    .dataframe thead th {\n",
       "        text-align: right;\n",
       "    }\n",
       "</style>\n",
       "<table border=\"1\" class=\"dataframe\">\n",
       "  <thead>\n",
       "    <tr style=\"text-align: right;\">\n",
       "      <th></th>\n",
       "      <th>0</th>\n",
       "      <th>values</th>\n",
       "    </tr>\n",
       "  </thead>\n",
       "  <tbody>\n",
       "    <tr>\n",
       "      <th>10</th>\n",
       "      <td>PCT_HISPANIC</td>\n",
       "      <td>1.005895</td>\n",
       "    </tr>\n",
       "    <tr>\n",
       "      <th>7</th>\n",
       "      <td>PCT_WHITE</td>\n",
       "      <td>1.005944</td>\n",
       "    </tr>\n",
       "    <tr>\n",
       "      <th>12</th>\n",
       "      <td>PCT_GRAD_PROF</td>\n",
       "      <td>1.009429</td>\n",
       "    </tr>\n",
       "    <tr>\n",
       "      <th>8</th>\n",
       "      <td>PCT_ASIAN</td>\n",
       "      <td>1.027031</td>\n",
       "    </tr>\n",
       "  </tbody>\n",
       "</table>\n",
       "</div>"
      ],
      "text/plain": [
       "                0    values\n",
       "10   PCT_HISPANIC  1.005895\n",
       "7       PCT_WHITE  1.005944\n",
       "12  PCT_GRAD_PROF  1.009429\n",
       "8       PCT_ASIAN  1.027031"
      ]
     },
     "execution_count": 59,
     "metadata": {},
     "output_type": "execute_result"
    }
   ],
   "source": [
    "coefficients[np.abs(coefficients['values']) > 1.005].sort_values(by='values')"
   ]
  },
  {
   "cell_type": "code",
   "execution_count": 60,
   "metadata": {},
   "outputs": [],
   "source": [
    "predictions_log = rcv_log.predict(X_test2)"
   ]
  },
  {
   "cell_type": "code",
   "execution_count": 61,
   "metadata": {},
   "outputs": [
    {
     "data": {
      "text/plain": [
       "Text(0, 0.5, 'Predicted Salary')"
      ]
     },
     "execution_count": 61,
     "metadata": {},
     "output_type": "execute_result"
    },
    {
     "data": {
      "image/png": "[encoded data removed]",
      "text/plain": [
       "<Figure size 720x432 with 1 Axes>"
      ]
     },
     "metadata": {
      "needs_background": "light"
     },
     "output_type": "display_data"
    }
   ],
   "source": [
    "plt.figure(figsize=[10,6])\n",
    "sns.regplot(x=y_test2, y=predictions_log)\n",
    "plt.title('Regression of the Logs of True 10-Year Salary vs Predicted Salary')\n",
    "plt.xlabel('True 10-Year Salary')\n",
    "plt.ylabel('Predicted Salary')"
   ]
  },
  {
   "cell_type": "code",
   "execution_count": 62,
   "metadata": {
    "scrolled": false
   },
   "outputs": [
    {
     "data": {
      "text/plain": [
       "Text(0, 0.5, 'Predicted Salary')"
      ]
     },
     "execution_count": 62,
     "metadata": {},
     "output_type": "execute_result"
    },
    {
     "data": {
      "image/png": "[encoded data removed]",
      "text/plain": [
       "<Figure size 720x432 with 1 Axes>"
      ]
     },
     "metadata": {
      "needs_background": "light"
     },
     "output_type": "display_data"
    }
   ],
   "source": [
    "plt.figure(figsize=[10,6])\n",
    "sns.regplot(x=y_test, y=np.exp(predictions_log))\n",
    "plt.title('Regression of True 10-Year Salary vs Predicted Salary')\n",
    "plt.xlabel('True 10-Year Salary')\n",
    "plt.ylabel('Predicted Salary')"
   ]
  },
  {
   "cell_type": "code",
   "execution_count": 63,
   "metadata": {},
   "outputs": [
    {
     "data": {
      "image/png": "[encoded data removed]",
      "text/plain": [
       "<Figure size 720x432 with 1 Axes>"
      ]
     },
     "metadata": {
      "needs_background": "light"
     },
     "output_type": "display_data"
    }
   ],
   "source": [
    "plt.figure(figsize=[10,6])\n",
    "plt.hist((np.exp(predictions_log) - y_test), color='red')\n",
    "plt.title('Distribution of Errors')\n",
    "plt.xlabel('Distribution of Residuals')\n",
    "plt.ylabel('Frequency');"
   ]
  },
  {
   "cell_type": "code",
   "execution_count": 64,
   "metadata": {},
   "outputs": [],
   "source": [
    "from sklearn.metrics import mean_squared_error, mean_absolute_error"
   ]
  },
  {
   "cell_type": "code",
   "execution_count": 65,
   "metadata": {},
   "outputs": [
    {
     "data": {
      "text/plain": [
       "6299187397140632.0"
      ]
     },
     "execution_count": 65,
     "metadata": {},
     "output_type": "execute_result"
    }
   ],
   "source": [
    "mean_squared_error(y_true=y_test, y_pred=predictions)"
   ]
  },
  {
   "cell_type": "code",
   "execution_count": 66,
   "metadata": {},
   "outputs": [
    {
     "data": {
      "text/plain": [
       "79367420.2500033"
      ]
     },
     "execution_count": 66,
     "metadata": {},
     "output_type": "execute_result"
    }
   ],
   "source": [
    "np.sqrt(mean_squared_error(y_true=y_test, y_pred=predictions))"
   ]
  },
  {
   "cell_type": "code",
   "execution_count": 67,
   "metadata": {},
   "outputs": [
    {
     "data": {
      "text/plain": [
       "89348590.67813653"
      ]
     },
     "execution_count": 67,
     "metadata": {},
     "output_type": "execute_result"
    }
   ],
   "source": [
    "mean_squared_error(y_true=y_test, y_pred=np.exp(predictions_log))"
   ]
  },
  {
   "cell_type": "code",
   "execution_count": 68,
   "metadata": {},
   "outputs": [
    {
     "data": {
      "text/plain": [
       "9452.438345640585"
      ]
     },
     "execution_count": 68,
     "metadata": {},
     "output_type": "execute_result"
    }
   ],
   "source": [
    "np.sqrt(mean_squared_error(y_true=y_test, y_pred=np.exp(predictions_log)))"
   ]
  },
  {
   "cell_type": "code",
   "execution_count": 69,
   "metadata": {},
   "outputs": [
    {
     "data": {
      "text/plain": [
       "74794490.78912541"
      ]
     },
     "execution_count": 69,
     "metadata": {},
     "output_type": "execute_result"
    }
   ],
   "source": [
    "mean_absolute_error(y_true=y_test, y_pred=predictions)"
   ]
  },
  {
   "cell_type": "code",
   "execution_count": 70,
   "metadata": {},
   "outputs": [
    {
     "data": {
      "text/plain": [
       "6325.032760909292"
      ]
     },
     "execution_count": 70,
     "metadata": {},
     "output_type": "execute_result"
    }
   ],
   "source": [
    "mean_absolute_error(y_true=y_test, y_pred=np.exp(predictions_log))"
   ]
  },
  {
   "cell_type": "code",
   "execution_count": null,
   "metadata": {},
   "outputs": [],
   "source": []
  }
 ],
 "metadata": {
  "kernelspec": {
   "display_name": "Python 3",
   "language": "python",
   "name": "python3"
  },
  "language_info": {
   "codemirror_mode": {
    "name": "ipython",
    "version": 3
   },
   "file_extension": ".py",
   "mimetype": "text/x-python",
   "name": "python",
   "nbconvert_exporter": "python",
   "pygments_lexer": "ipython3",
   "version": "3.6.8"
  }
 },
 "nbformat": 4,
 "nbformat_minor": 2
}
